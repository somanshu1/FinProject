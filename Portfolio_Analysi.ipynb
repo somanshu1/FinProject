{
  "nbformat": 4,
  "nbformat_minor": 0,
  "metadata": {
    "colab": {
      "provenance": [],
      "authorship_tag": "ABX9TyPcL2WquHigC4X83A/xhXdi",
      "include_colab_link": true
    },
    "kernelspec": {
      "name": "python3",
      "display_name": "Python 3"
    },
    "language_info": {
      "name": "python"
    }
  },
  "cells": [
    {
      "cell_type": "markdown",
      "metadata": {
        "id": "view-in-github",
        "colab_type": "text"
      },
      "source": [
        "<a href=\"https://colab.research.google.com/github/somanshu1/FinProject/blob/main/Portfolio_Analysi.ipynb\" target=\"_parent\"><img src=\"https://colab.research.google.com/assets/colab-badge.svg\" alt=\"Open In Colab\"/></a>"
      ]
    },
    {
      "cell_type": "code",
      "execution_count": 2,
      "metadata": {
        "id": "KIIzrE65OAuZ"
      },
      "outputs": [],
      "source": [
        "import numpy as np\n",
        "import pandas as pd\n",
        "import matplotlib.pyplot as plt\n",
        "import yfinance as yf\n",
        "from scipy.optimize import minimize"
      ]
    },
    {
      "cell_type": "code",
      "source": [
        "tickers = pd.read_html('https://en.wikipedia.org/wiki/Dow_Jones_Industrial_Average')[1]"
      ],
      "metadata": {
        "id": "MFGI_0RYPlq9"
      },
      "execution_count": 3,
      "outputs": []
    },
    {
      "cell_type": "code",
      "source": [
        "data=yf.download(tickers.Symbol.to_list(),'2021-01-01')['Adj Close']"
      ],
      "metadata": {
        "id": "FKde6l7mQOMN"
      },
      "execution_count": null,
      "outputs": []
    },
    {
      "cell_type": "code",
      "source": [
        "returns = data.pct_change().dropna()"
      ],
      "metadata": {
        "id": "_AJETlBXtMnj"
      },
      "execution_count": 5,
      "outputs": []
    },
    {
      "cell_type": "code",
      "source": [
        "expected_returns = returns.mean()*252\n",
        "cov_matrix= returns.cov()*252"
      ],
      "metadata": {
        "id": "h3vta6DrvBq7"
      },
      "execution_count": 6,
      "outputs": []
    },
    {
      "cell_type": "code",
      "source": [
        "def portfolio_varaince(W):\n",
        "  return((W.dot(cov_matrix)).dot(W))"
      ],
      "metadata": {
        "id": "IPS95-UmxGHt"
      },
      "execution_count": 7,
      "outputs": []
    },
    {
      "cell_type": "code",
      "source": [
        "n_assets=len(data.columns)"
      ],
      "metadata": {
        "id": "_YyHOB-sxy70"
      },
      "execution_count": 8,
      "outputs": []
    },
    {
      "cell_type": "code",
      "source": [
        "initial_weight= np.array([1/n_assets for i in range(n_assets)])"
      ],
      "metadata": {
        "id": "jigIdS9nyDn5"
      },
      "execution_count": 12,
      "outputs": []
    },
    {
      "cell_type": "code",
      "source": [
        "target_returns = np.linspace(expected_returns.min(), expected_returns.max(), 100)\n"
      ],
      "metadata": {
        "id": "RAXA9SdxzYHN"
      },
      "execution_count": 13,
      "outputs": []
    },
    {
      "cell_type": "code",
      "source": [
        "target_vol=np.array([])\n",
        "for target_return in target_returns:\n",
        "  constraints = ({'type': 'eq', 'fun': lambda x: np.sum(x) - 1},\n",
        "                {'type': 'eq', 'fun': lambda x: x.dot(expected_returns) - (target_return)})\n",
        "  bounds = [[0, 1]] * n_assets\n",
        "  result = minimize ( portfolio_varaince, initial_weight,method='SLSQP', bounds = bounds, constraints= constraints)\n",
        "  target_vol = np.append(target_vol,result.fun ** (1/2) )"
      ],
      "metadata": {
        "id": "xPFUw8w80Amo"
      },
      "execution_count": 22,
      "outputs": []
    },
    {
      "cell_type": "code",
      "source": [
        "plt.scatter(target_vol,target_returns)"
      ],
      "metadata": {
        "colab": {
          "base_uri": "https://localhost:8080/",
          "height": 447
        },
        "id": "3AItCBWqaTGC",
        "outputId": "7e24c2ee-bb44-428d-813f-ff142eb0cfe8"
      },
      "execution_count": 27,
      "outputs": [
        {
          "output_type": "execute_result",
          "data": {
            "text/plain": [
              "<matplotlib.collections.PathCollection at 0x7a9984d22260>"
            ]
          },
          "metadata": {},
          "execution_count": 27
        },
        {
          "output_type": "display_data",
          "data": {
            "text/plain": [
              "<Figure size 640x480 with 1 Axes>"
            ],
            "image/png": "[encoded data removed]"
          },
          "metadata": {}
        }
      ]
    },
    {
      "cell_type": "code",
      "source": [
        "target_vol\n",
        "n_assets"
      ],
      "metadata": {
        "id": "tXHDSUi0u-tb"
      },
      "execution_count": null,
      "outputs": []
    },
    {
      "cell_type": "markdown",
      "source": [],
      "metadata": {
        "id": "KufYBXmXvMlx"
      }
    }
  ]
}